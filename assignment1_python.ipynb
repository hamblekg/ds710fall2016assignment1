{
 "cells": [
  {
   "cell_type": "code",
   "execution_count": 13,
   "metadata": {
    "collapsed": false
   },
   "outputs": [
    {
     "name": "stdout",
     "output_type": "stream",
     "text": [
      "Hello World!\n"
     ]
    }
   ],
   "source": [
    "#This cell is a code cell.  Pressing shift-enter or using the \"Run Cell\" button will evaluate the code in this cell.\n",
    "#The \"Run Cell\" button looks like a little black triangle.\n",
    "#Run the code in this cell.\n",
    "\n",
    "print(\"Hello World!\")"
   ]
  },
  {
   "cell_type": "code",
   "execution_count": 2,
   "metadata": {
    "collapsed": false
   },
   "outputs": [
    {
     "name": "stdout",
     "output_type": "stream",
     "text": [
      "4\n"
     ]
    }
   ],
   "source": [
    "#create a variable named a, and store the value 3+1 in it\n",
    "a = 3+1\n",
    "\n",
    "#display a\n",
    "print(a)"
   ]
  },
  {
   "cell_type": "code",
   "execution_count": 14,
   "metadata": {
    "collapsed": false
   },
   "outputs": [
    {
     "name": "stdout",
     "output_type": "stream",
     "text": [
      "Three plus one is equal to 4\n"
     ]
    }
   ],
   "source": [
    "#you can combine multiple objects in the same print statement\n",
    "\n",
    "print(\"Three plus one is equal to\", a)"
   ]
  },
  {
   "cell_type": "code",
   "execution_count": 15,
   "metadata": {
    "collapsed": false
   },
   "outputs": [
    {
     "name": "stdout",
     "output_type": "stream",
     "text": [
      "My name is Kyle Hamble\n"
     ]
    }
   ],
   "source": [
    "#Note that the usual Python convention is to separate words in variable names using underscores\n",
    "\n",
    "first_name = \"Kyle\"\n",
    "last_name = \"Hamble\"\n",
    "print(\"My name is\",first_name, last_name)"
   ]
  },
  {
   "cell_type": "code",
   "execution_count": 8,
   "metadata": {
    "collapsed": false
   },
   "outputs": [
    {
     "name": "stdout",
     "output_type": "stream",
     "text": [
      "First Name \t Last Name \n",
      " Kyle \t \t Hamble\n"
     ]
    }
   ],
   "source": [
    "#We can use the tab or \"\\t\" and newline or \"\\n\" characters to format our output.\n",
    "#Adjust the output below so that your first and last name appear in the appropriate column.\n",
    "\n",
    "print(\"First Name\",\"\\t\",\"Last Name\",\"\\n\",first_name,\"\\t\", \"\\t\",last_name)"
   ]
  },
  {
   "cell_type": "code",
   "execution_count": 11,
   "metadata": {
    "collapsed": false
   },
   "outputs": [
    {
     "name": "stdout",
     "output_type": "stream",
     "text": [
      "Kyle Hamble\n"
     ]
    }
   ],
   "source": [
    "#We can also combine strings using the + operator.\n",
    "#Adjust the output below so that it includes a space between your first and last name.\n",
    "first_name = \"Kyle\"\n",
    "last_name = \"Hamble\"\n",
    "print(first_name + \" \" + last_name)"
   ]
  },
  {
   "cell_type": "code",
   "execution_count": 12,
   "metadata": {
    "collapsed": false
   },
   "outputs": [
    {
     "data": {
      "text/plain": [
       "'KYLE'"
      ]
     },
     "execution_count": 12,
     "metadata": {},
     "output_type": "execute_result"
    }
   ],
   "source": [
    "#Find a function that will convert your given name to uppercase.\n",
    "first_name = \"Kyle\"\n",
    "first_name.upper()"
   ]
  },
  {
   "cell_type": "code",
   "execution_count": null,
   "metadata": {
    "collapsed": true
   },
   "outputs": [],
   "source": []
  }
 ],
 "metadata": {
  "kernelspec": {
   "display_name": "Python [Root]",
   "language": "python",
   "name": "Python [Root]"
  },
  "language_info": {
   "codemirror_mode": {
    "name": "ipython",
    "version": 3
   },
   "file_extension": ".py",
   "mimetype": "text/x-python",
   "name": "python",
   "nbconvert_exporter": "python",
   "pygments_lexer": "ipython3",
   "version": "3.5.2"
  }
 },
 "nbformat": 4,
 "nbformat_minor": 0
}
